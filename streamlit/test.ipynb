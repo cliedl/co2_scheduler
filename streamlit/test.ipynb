{
 "cells": [
  {
   "cell_type": "code",
   "execution_count": 37,
   "metadata": {},
   "outputs": [
    {
     "data": {
      "image/png": "[encoded data removed]",
      "text/html": [
       "<div style=\"vertical-align: middle;\"><strong>viridis</strong> </div><div class=\"cmap\"><img alt=\"viridis colormap\" title=\"viridis\" style=\"border: 1px solid #555;\" src=\"data:image/png;base64,iVBORw0KGgoAAAANSUhEUgAAAgAAAABACAYAAABsv8+/AAAAFnRFWHRUaXRsZQB2aXJpZGlzIGNvbG9ybWFwrE0mCwAAABx0RVh0RGVzY3JpcHRpb24AdmlyaWRpcyBjb2xvcm1hcAtjl3IAAAAwdEVYdEF1dGhvcgBNYXRwbG90bGliIHYzLjguMywgaHR0cHM6Ly9tYXRwbG90bGliLm9yZ6qeThwAAAAydEVYdFNvZnR3YXJlAE1hdHBsb3RsaWIgdjMuOC4zLCBodHRwczovL21hdHBsb3RsaWIub3JnhDjROwAAAiJJREFUeJzt1kGSmzAURdEv2FqWkP0vJfQgMhQCGceV2Ttn4pL0EVQPum771X5vVVXVWv39XfrPeV193V5zS98f1sf5/fPjey73zu6/3Hv/uz2cz57f9vP68rxO9+/zre7nhvvG+et6vH92bw3PDfcsD+eX59+/53n96f3362/f87/vf5yr93Of72/fPV9P89tX3zGeH3OT8/07Zs+/32+TuXZZD8/VODf8W5uuH/b7vctlfuv7NazH8/t7ZnP7bz2cD3NL+/Ph3Hl+/efz83vWun/vuL++nquH9eu9w/uu6/vvOO49f/8xf77vOj+8b7Y/fMfse9ca/y7nv+d62a++X+f1vt+G/b7u+/u6TxzzS//tc2053QMABBEAABBIAABAIAEAAIEEAAAEEgAAEEgAAEAgAQAAgQQAAAQSAAAQSAAAQCABAACBBAAABBIAABBIAABAIAEAAIEEAAAEEgAAEEgAAEAgAQAAgQQAAAQSAAAQSAAAQCABAACBBAAABBIAABBIAABAIAEAAIEEAAAEEgAAEEgAAEAgAQAAgQQAAAQSAAAQSAAAQCABAACBBAAABBIAABBIAABAIAEAAIEEAAAEEgAAEEgAAEAgAQAAgQQAAAQSAAAQSAAAQCABAACBBAAABBIAABBIAABAIAEAAIEEAAAEEgAAEEgAAEAgAQAAgQQAAAQSAAAQSAAAQCABAACBBAAABBIAABBIAABAoB9ucImHxcKZtAAAAABJRU5ErkJggg==\"></div><div style=\"vertical-align: middle; max-width: 514px; display: flex; justify-content: space-between;\"><div style=\"float: left;\"><div title=\"#440154ff\" style=\"display: inline-block; width: 1em; height: 1em; margin: 0; vertical-align: middle; border: 1px solid #555; background-color: #440154ff;\"></div> under</div><div style=\"margin: 0 auto; display: inline-block;\">bad <div title=\"#00000000\" style=\"display: inline-block; width: 1em; height: 1em; margin: 0; vertical-align: middle; border: 1px solid #555; background-color: #00000000;\"></div></div><div style=\"float: right;\">over <div title=\"#fde725ff\" style=\"display: inline-block; width: 1em; height: 1em; margin: 0; vertical-align: middle; border: 1px solid #555; background-color: #fde725ff;\"></div></div>"
      ],
      "text/plain": [
       "<matplotlib.colors.ListedColormap at 0x144fa8250>"
      ]
     },
     "execution_count": 37,
     "metadata": {},
     "output_type": "execute_result"
    }
   ],
   "source": []
  },
  {
   "cell_type": "code",
   "execution_count": 151,
   "metadata": {},
   "outputs": [
    {
     "data": {
      "image/png": "[encoded data removed]",
      "text/plain": [
       "<Figure size 600x200 with 1 Axes>"
      ]
     },
     "metadata": {},
     "output_type": "display_data"
    }
   ],
   "source": [
    "import numpy as np\n",
    "import matplotlib.pyplot as plt\n",
    "import pandas as pd\n",
    "import joblib\n",
    "import plotly.express as px\n",
    "import plotly as py\n",
    "\n",
    "\n",
    "x = np.linspace(0, 100, 24*3)\n",
    "y = np.sin(2*np.pi*x/100)**2\n",
    "\n",
    "df = pd.read_csv(\"../data/combined_data.csv\")\n",
    "df = df.iloc[-24*3:]\n",
    "\n",
    "features = [key for key in df if \"wind\" in key] + [\"month\", \"hour\"]\n",
    "model = joblib.load(\"../models/xgb_1708455353.pkl\")\n",
    "co2_predictions = model.predict(df[features])\n",
    "time_axis = np.linspace(0, 1, len(co2_predictions))\n",
    "\n",
    "x = time_axis\n",
    "y = co2_predictions\n",
    "y[0] = 0\n",
    "y[-1] = 0\n",
    "\n",
    "fig, ax = plt.subplots(figsize=(6, 2))\n",
    "# plot only the outline of the polygon, and capture the result\n",
    "poly, = ax.fill(x, y, facecolor='none')\n",
    "# get the extent of the axes\n",
    "xmin, xmax = ax.get_xlim()\n",
    "ymin, ymax = ax.get_ylim()\n",
    "# create a dummy image\n",
    "img_data = np.arange(ymin, ymax, (ymax-ymin)/100.)\n",
    "img_data = img_data.reshape(img_data.size, 1)\n",
    "\n",
    "# plot and clip the image\n",
    "im = ax.imshow(img_data, aspect='auto', origin='lower', cmap=\"RdYlGn_r\", extent=[\n",
    "    xmin, xmax, ymin, ymax], vmin=y.min(), vmax=y.max())\n",
    "\n",
    "im.set_clip_path(poly)"
   ]
  },
  {
   "cell_type": "code",
   "execution_count": 158,
   "metadata": {},
   "outputs": [],
   "source": [
    "import numpy as np\n",
    "import matplotlib.pyplot as plt\n",
    "import pandas as pd\n",
    "import joblib\n",
    "import plotly.express as px\n",
    "\n",
    "\n",
    "df = pd.read_csv(\"../data/combined_data.csv\")\n",
    "df = df.iloc[-24*3:]  # Take last three days of training data\n",
    "\n",
    "features = [key for key in df if \"wind\" in key] + [\"month\", \"hour\"]\n",
    "model = joblib.load(\"../models/xgb_1708455353.pkl\")\n",
    "co2_predictions = model.predict(df[features])\n",
    "time_axis = df[\"dt\"]"
   ]
  },
  {
   "cell_type": "code",
   "execution_count": 174,
   "metadata": {},
   "outputs": [
    {
     "data": {
      "application/vnd.plotly.v1+json": {
       "config": {
        "plotlyServerURL": "https://plot.ly"
       },
       "data": [
        {
         "alignmentgroup": "True",
         "hovertemplate": "color=2023-12-29 00:00:00<br>x=%{x}<br>y=%{y}<extra></extra>",
         "legendgroup": "2023-12-29 00:00:00",
         "marker": {
          "color": "rgb(81, 179, 94)",
          "pattern": {
           "shape": ""
          }
         },
         "name": "2023-12-29 00:00:00",
         "offsetgroup": "2023-12-29 00:00:00",
         "orientation": "v",
         "showlegend": true,
         "textposition": "auto",
         "type": "bar",
         "x": [
          "2023-12-29 00:00:00"
         ],
         "xaxis": "x",
         "y": [
          243.5343475341797
         ],
         "yaxis": "y"
        },
        {
         "alignmentgroup": "True",
         "hovertemplate": "color=2023-12-29 01:00:00<br>x=%{x}<br>y=%{y}<extra></extra>",
         "legendgroup": "2023-12-29 01:00:00",
         "marker": {
          "color": "rgb(72, 175, 91)",
          "pattern": {
           "shape": ""
          }
         },
         "name": "2023-12-29 01:00:00",
         "offsetgroup": "2023-12-29 01:00:00",
         "orientation": "v",
         "showlegend": true,
         "textposition": "auto",
         "type": "bar",
         "x": [
          "2023-12-29 01:00:00"
         ],
         "xaxis": "x",
         "y": [
          239.99374389648438
         ],
         "yaxis": "y"
        },
        {
         "alignmentgroup": "True",
         "hovertemplate": "color=2023-12-29 02:00:00<br>x=%{x}<br>y=%{y}<extra></extra>",
         "legendgroup": "2023-12-29 02:00:00",
         "marker": {
          "color": "rgb(87, 182, 95)",
          "pattern": {
           "shape": ""
          }
         },
         "name": "2023-12-29 02:00:00",
         "offsetgroup": "2023-12-29 02:00:00",
         "orientation": "v",
         "showlegend": true,
         "textposition": "auto",
         "type": "bar",
         "x": [
          "2023-12-29 02:00:00"
         ],
         "xaxis": "x",
         "y": [
          247.36947631835938
         ],
         "yaxis": "y"
        },
        {
         "alignmentgroup": "True",
         "hovertemplate": "color=2023-12-29 03:00:00<br>x=%{x}<br>y=%{y}<extra></extra>",
         "legendgroup": "2023-12-29 03:00:00",
         "marker": {
          "color": "rgb(69, 173, 91)",
          "pattern": {
           "shape": ""
          }
         },
         "name": "2023-12-29 03:00:00",
         "offsetgroup": "2023-12-29 03:00:00",
         "orientation": "v",
         "showlegend": true,
         "textposition": "auto",
         "type": "bar",
         "x": [
          "2023-12-29 03:00:00"
         ],
         "xaxis": "x",
         "y": [
          238.00723266601562
         ],
         "yaxis": "y"
        },
        {
         "alignmentgroup": "True",
         "hovertemplate": "color=2023-12-29 04:00:00<br>x=%{x}<br>y=%{y}<extra></extra>",
         "legendgroup": "2023-12-29 04:00:00",
         "marker": {
          "color": "rgb(93, 185, 97)",
          "pattern": {
           "shape": ""
          }
         },
         "name": "2023-12-29 04:00:00",
         "offsetgroup": "2023-12-29 04:00:00",
         "orientation": "v",
         "showlegend": true,
         "textposition": "auto",
         "type": "bar",
         "x": [
          "2023-12-29 04:00:00"
         ],
         "xaxis": "x",
         "y": [
          249.12387084960938
         ],
         "yaxis": "y"
        },
        {
         "alignmentgroup": "True",
         "hovertemplate": "color=2023-12-29 05:00:00<br>x=%{x}<br>y=%{y}<extra></extra>",
         "legendgroup": "2023-12-29 05:00:00",
         "marker": {
          "color": "rgb(81, 179, 94)",
          "pattern": {
           "shape": ""
          }
         },
         "name": "2023-12-29 05:00:00",
         "offsetgroup": "2023-12-29 05:00:00",
         "orientation": "v",
         "showlegend": true,
         "textposition": "auto",
         "type": "bar",
         "x": [
          "2023-12-29 05:00:00"
         ],
         "xaxis": "x",
         "y": [
          244.3252716064453
         ],
         "yaxis": "y"
        },
        {
         "alignmentgroup": "True",
         "hovertemplate": "color=2023-12-29 06:00:00<br>x=%{x}<br>y=%{y}<extra></extra>",
         "legendgroup": "2023-12-29 06:00:00",
         "marker": {
          "color": "rgb(107, 191, 99)",
          "pattern": {
           "shape": ""
          }
         },
         "name": "2023-12-29 06:00:00",
         "offsetgroup": "2023-12-29 06:00:00",
         "orientation": "v",
         "showlegend": true,
         "textposition": "auto",
         "type": "bar",
         "x": [
          "2023-12-29 06:00:00"
         ],
         "xaxis": "x",
         "y": [
          256.82489013671875
         ],
         "yaxis": "y"
        },
        {
         "alignmentgroup": "True",
         "hovertemplate": "color=2023-12-29 07:00:00<br>x=%{x}<br>y=%{y}<extra></extra>",
         "legendgroup": "2023-12-29 07:00:00",
         "marker": {
          "color": "rgb(114, 195, 100)",
          "pattern": {
           "shape": ""
          }
         },
         "name": "2023-12-29 07:00:00",
         "offsetgroup": "2023-12-29 07:00:00",
         "orientation": "v",
         "showlegend": true,
         "textposition": "auto",
         "type": "bar",
         "x": [
          "2023-12-29 07:00:00"
         ],
         "xaxis": "x",
         "y": [
          260.65423583984375
         ],
         "yaxis": "y"
        },
        {
         "alignmentgroup": "True",
         "hovertemplate": "color=2023-12-29 08:00:00<br>x=%{x}<br>y=%{y}<extra></extra>",
         "legendgroup": "2023-12-29 08:00:00",
         "marker": {
          "color": "rgb(63, 170, 89)",
          "pattern": {
           "shape": ""
          }
         },
         "name": "2023-12-29 08:00:00",
         "offsetgroup": "2023-12-29 08:00:00",
         "orientation": "v",
         "showlegend": true,
         "textposition": "auto",
         "type": "bar",
         "x": [
          "2023-12-29 08:00:00"
         ],
         "xaxis": "x",
         "y": [
          236.22909545898438
         ],
         "yaxis": "y"
        },
        {
         "alignmentgroup": "True",
         "hovertemplate": "color=2023-12-29 09:00:00<br>x=%{x}<br>y=%{y}<extra></extra>",
         "legendgroup": "2023-12-29 09:00:00",
         "marker": {
          "color": "rgb(18, 138, 72)",
          "pattern": {
           "shape": ""
          }
         },
         "name": "2023-12-29 09:00:00",
         "offsetgroup": "2023-12-29 09:00:00",
         "orientation": "v",
         "showlegend": true,
         "textposition": "auto",
         "type": "bar",
         "x": [
          "2023-12-29 09:00:00"
         ],
         "xaxis": "x",
         "y": [
          207.68894958496094
         ],
         "yaxis": "y"
        },
        {
         "alignmentgroup": "True",
         "hovertemplate": "color=2023-12-29 10:00:00<br>x=%{x}<br>y=%{y}<extra></extra>",
         "legendgroup": "2023-12-29 10:00:00",
         "marker": {
          "color": "rgb(25, 151, 79)",
          "pattern": {
           "shape": ""
          }
         },
         "name": "2023-12-29 10:00:00",
         "offsetgroup": "2023-12-29 10:00:00",
         "orientation": "v",
         "showlegend": true,
         "textposition": "auto",
         "type": "bar",
         "x": [
          "2023-12-29 10:00:00"
         ],
         "xaxis": "x",
         "y": [
          217.08071899414062
         ],
         "yaxis": "y"
        },
        {
         "alignmentgroup": "True",
         "hovertemplate": "color=2023-12-29 11:00:00<br>x=%{x}<br>y=%{y}<extra></extra>",
         "legendgroup": "2023-12-29 11:00:00",
         "marker": {
          "color": "rgb(48, 163, 85)",
          "pattern": {
           "shape": ""
          }
         },
         "name": "2023-12-29 11:00:00",
         "offsetgroup": "2023-12-29 11:00:00",
         "orientation": "v",
         "showlegend": true,
         "textposition": "auto",
         "type": "bar",
         "x": [
          "2023-12-29 11:00:00"
         ],
         "xaxis": "x",
         "y": [
          228.404296875
         ],
         "yaxis": "y"
        },
        {
         "alignmentgroup": "True",
         "hovertemplate": "color=2023-12-29 12:00:00<br>x=%{x}<br>y=%{y}<extra></extra>",
         "legendgroup": "2023-12-29 12:00:00",
         "marker": {
          "color": "rgb(51, 164, 86)",
          "pattern": {
           "shape": ""
          }
         },
         "name": "2023-12-29 12:00:00",
         "offsetgroup": "2023-12-29 12:00:00",
         "orientation": "v",
         "showlegend": true,
         "textposition": "auto",
         "type": "bar",
         "x": [
          "2023-12-29 12:00:00"
         ],
         "xaxis": "x",
         "y": [
          229.76651000976562
         ],
         "yaxis": "y"
        },
        {
         "alignmentgroup": "True",
         "hovertemplate": "color=2023-12-29 13:00:00<br>x=%{x}<br>y=%{y}<extra></extra>",
         "legendgroup": "2023-12-29 13:00:00",
         "marker": {
          "color": "rgb(63, 170, 89)",
          "pattern": {
           "shape": ""
          }
         },
         "name": "2023-12-29 13:00:00",
         "offsetgroup": "2023-12-29 13:00:00",
         "orientation": "v",
         "showlegend": true,
         "textposition": "auto",
         "type": "bar",
         "x": [
          "2023-12-29 13:00:00"
         ],
         "xaxis": "x",
         "y": [
          235.99607849121094
         ],
         "yaxis": "y"
        },
        {
         "alignmentgroup": "True",
         "hovertemplate": "color=2023-12-29 14:00:00<br>x=%{x}<br>y=%{y}<extra></extra>",
         "legendgroup": "2023-12-29 14:00:00",
         "marker": {
          "color": "rgb(99, 188, 98)",
          "pattern": {
           "shape": ""
          }
         },
         "name": "2023-12-29 14:00:00",
         "offsetgroup": "2023-12-29 14:00:00",
         "orientation": "v",
         "showlegend": true,
         "textposition": "auto",
         "type": "bar",
         "x": [
          "2023-12-29 14:00:00"
         ],
         "xaxis": "x",
         "y": [
          252.84400939941406
         ],
         "yaxis": "y"
        },
        {
         "alignmentgroup": "True",
         "hovertemplate": "color=2023-12-29 15:00:00<br>x=%{x}<br>y=%{y}<extra></extra>",
         "legendgroup": "2023-12-29 15:00:00",
         "marker": {
          "color": "rgb(109, 193, 100)",
          "pattern": {
           "shape": ""
          }
         },
         "name": "2023-12-29 15:00:00",
         "offsetgroup": "2023-12-29 15:00:00",
         "orientation": "v",
         "showlegend": true,
         "textposition": "auto",
         "type": "bar",
         "x": [
          "2023-12-29 15:00:00"
         ],
         "xaxis": "x",
         "y": [
          257.651611328125
         ],
         "yaxis": "y"
        },
        {
         "alignmentgroup": "True",
         "hovertemplate": "color=2023-12-29 16:00:00<br>x=%{x}<br>y=%{y}<extra></extra>",
         "legendgroup": "2023-12-29 16:00:00",
         "marker": {
          "color": "rgb(112, 194, 100)",
          "pattern": {
           "shape": ""
          }
         },
         "name": "2023-12-29 16:00:00",
         "offsetgroup": "2023-12-29 16:00:00",
         "orientation": "v",
         "showlegend": true,
         "textposition": "auto",
         "type": "bar",
         "x": [
          "2023-12-29 16:00:00"
         ],
         "xaxis": "x",
         "y": [
          259.33843994140625
         ],
         "yaxis": "y"
        },
        {
         "alignmentgroup": "True",
         "hovertemplate": "color=2023-12-29 17:00:00<br>x=%{x}<br>y=%{y}<extra></extra>",
         "legendgroup": "2023-12-29 17:00:00",
         "marker": {
          "color": "rgb(140, 206, 103)",
          "pattern": {
           "shape": ""
          }
         },
         "name": "2023-12-29 17:00:00",
         "offsetgroup": "2023-12-29 17:00:00",
         "orientation": "v",
         "showlegend": true,
         "textposition": "auto",
         "type": "bar",
         "x": [
          "2023-12-29 17:00:00"
         ],
         "xaxis": "x",
         "y": [
          275.5748596191406
         ],
         "yaxis": "y"
        },
        {
         "alignmentgroup": "True",
         "hovertemplate": "color=2023-12-29 18:00:00<br>x=%{x}<br>y=%{y}<extra></extra>",
         "legendgroup": "2023-12-29 18:00:00",
         "marker": {
          "color": "rgb(114, 195, 100)",
          "pattern": {
           "shape": ""
          }
         },
         "name": "2023-12-29 18:00:00",
         "offsetgroup": "2023-12-29 18:00:00",
         "orientation": "v",
         "showlegend": true,
         "textposition": "auto",
         "type": "bar",
         "x": [
          "2023-12-29 18:00:00"
         ],
         "xaxis": "x",
         "y": [
          261.51385498046875
         ],
         "yaxis": "y"
        },
        {
         "alignmentgroup": "True",
         "hovertemplate": "color=2023-12-29 19:00:00<br>x=%{x}<br>y=%{y}<extra></extra>",
         "legendgroup": "2023-12-29 19:00:00",
         "marker": {
          "color": "rgb(99, 188, 98)",
          "pattern": {
           "shape": ""
          }
         },
         "name": "2023-12-29 19:00:00",
         "offsetgroup": "2023-12-29 19:00:00",
         "orientation": "v",
         "showlegend": true,
         "textposition": "auto",
         "type": "bar",
         "x": [
          "2023-12-29 19:00:00"
         ],
         "xaxis": "x",
         "y": [
          252.52194213867188
         ],
         "yaxis": "y"
        },
        {
         "alignmentgroup": "True",
         "hovertemplate": "color=2023-12-29 20:00:00<br>x=%{x}<br>y=%{y}<extra></extra>",
         "legendgroup": "2023-12-29 20:00:00",
         "marker": {
          "color": "rgb(30, 154, 81)",
          "pattern": {
           "shape": ""
          }
         },
         "name": "2023-12-29 20:00:00",
         "offsetgroup": "2023-12-29 20:00:00",
         "orientation": "v",
         "showlegend": true,
         "textposition": "auto",
         "type": "bar",
         "x": [
          "2023-12-29 20:00:00"
         ],
         "xaxis": "x",
         "y": [
          219.61126708984375
         ],
         "yaxis": "y"
        },
        {
         "alignmentgroup": "True",
         "hovertemplate": "color=2023-12-29 21:00:00<br>x=%{x}<br>y=%{y}<extra></extra>",
         "legendgroup": "2023-12-29 21:00:00",
         "marker": {
          "color": "rgb(30, 154, 81)",
          "pattern": {
           "shape": ""
          }
         },
         "name": "2023-12-29 21:00:00",
         "offsetgroup": "2023-12-29 21:00:00",
         "orientation": "v",
         "showlegend": true,
         "textposition": "auto",
         "type": "bar",
         "x": [
          "2023-12-29 21:00:00"
         ],
         "xaxis": "x",
         "y": [
          219.84205627441406
         ],
         "yaxis": "y"
        },
        {
         "alignmentgroup": "True",
         "hovertemplate": "color=2023-12-29 22:00:00<br>x=%{x}<br>y=%{y}<extra></extra>",
         "legendgroup": "2023-12-29 22:00:00",
         "marker": {
          "color": "rgb(36, 157, 82)",
          "pattern": {
           "shape": ""
          }
         },
         "name": "2023-12-29 22:00:00",
         "offsetgroup": "2023-12-29 22:00:00",
         "orientation": "v",
         "showlegend": true,
         "textposition": "auto",
         "type": "bar",
         "x": [
          "2023-12-29 22:00:00"
         ],
         "xaxis": "x",
         "y": [
          223.35813903808594
         ],
         "yaxis": "y"
        },
        {
         "alignmentgroup": "True",
         "hovertemplate": "color=2023-12-29 23:00:00<br>x=%{x}<br>y=%{y}<extra></extra>",
         "legendgroup": "2023-12-29 23:00:00",
         "marker": {
          "color": "rgb(13, 128, 68)",
          "pattern": {
           "shape": ""
          }
         },
         "name": "2023-12-29 23:00:00",
         "offsetgroup": "2023-12-29 23:00:00",
         "orientation": "v",
         "showlegend": true,
         "textposition": "auto",
         "type": "bar",
         "x": [
          "2023-12-29 23:00:00"
         ],
         "xaxis": "x",
         "y": [
          199.83787536621094
         ],
         "yaxis": "y"
        },
        {
         "alignmentgroup": "True",
         "hovertemplate": "color=2023-12-30 00:00:00<br>x=%{x}<br>y=%{y}<extra></extra>",
         "legendgroup": "2023-12-30 00:00:00",
         "marker": {
          "color": "rgb(48, 163, 85)",
          "pattern": {
           "shape": ""
          }
         },
         "name": "2023-12-30 00:00:00",
         "offsetgroup": "2023-12-30 00:00:00",
         "orientation": "v",
         "showlegend": true,
         "textposition": "auto",
         "type": "bar",
         "x": [
          "2023-12-30 00:00:00"
         ],
         "xaxis": "x",
         "y": [
          228.35702514648438
         ],
         "yaxis": "y"
        },
        {
         "alignmentgroup": "True",
         "hovertemplate": "color=2023-12-30 01:00:00<br>x=%{x}<br>y=%{y}<extra></extra>",
         "legendgroup": "2023-12-30 01:00:00",
         "marker": {
          "color": "rgb(33, 156, 82)",
          "pattern": {
           "shape": ""
          }
         },
         "name": "2023-12-30 01:00:00",
         "offsetgroup": "2023-12-30 01:00:00",
         "orientation": "v",
         "showlegend": true,
         "textposition": "auto",
         "type": "bar",
         "x": [
          "2023-12-30 01:00:00"
         ],
         "xaxis": "x",
         "y": [
          221.3922576904297
         ],
         "yaxis": "y"
        },
        {
         "alignmentgroup": "True",
         "hovertemplate": "color=2023-12-30 02:00:00<br>x=%{x}<br>y=%{y}<extra></extra>",
         "legendgroup": "2023-12-30 02:00:00",
         "marker": {
          "color": "rgb(51, 164, 86)",
          "pattern": {
           "shape": ""
          }
         },
         "name": "2023-12-30 02:00:00",
         "offsetgroup": "2023-12-30 02:00:00",
         "orientation": "v",
         "showlegend": true,
         "textposition": "auto",
         "type": "bar",
         "x": [
          "2023-12-30 02:00:00"
         ],
         "xaxis": "x",
         "y": [
          229.53836059570312
         ],
         "yaxis": "y"
        },
        {
         "alignmentgroup": "True",
         "hovertemplate": "color=2023-12-30 03:00:00<br>x=%{x}<br>y=%{y}<extra></extra>",
         "legendgroup": "2023-12-30 03:00:00",
         "marker": {
          "color": "rgb(42, 160, 84)",
          "pattern": {
           "shape": ""
          }
         },
         "name": "2023-12-30 03:00:00",
         "offsetgroup": "2023-12-30 03:00:00",
         "orientation": "v",
         "showlegend": true,
         "textposition": "auto",
         "type": "bar",
         "x": [
          "2023-12-30 03:00:00"
         ],
         "xaxis": "x",
         "y": [
          226.4823760986328
         ],
         "yaxis": "y"
        },
        {
         "alignmentgroup": "True",
         "hovertemplate": "color=2023-12-30 04:00:00<br>x=%{x}<br>y=%{y}<extra></extra>",
         "legendgroup": "2023-12-30 04:00:00",
         "marker": {
          "color": "rgb(104, 190, 99)",
          "pattern": {
           "shape": ""
          }
         },
         "name": "2023-12-30 04:00:00",
         "offsetgroup": "2023-12-30 04:00:00",
         "orientation": "v",
         "showlegend": true,
         "textposition": "auto",
         "type": "bar",
         "x": [
          "2023-12-30 04:00:00"
         ],
         "xaxis": "x",
         "y": [
          255.22488403320312
         ],
         "yaxis": "y"
        },
        {
         "alignmentgroup": "True",
         "hovertemplate": "color=2023-12-30 05:00:00<br>x=%{x}<br>y=%{y}<extra></extra>",
         "legendgroup": "2023-12-30 05:00:00",
         "marker": {
          "color": "rgb(127, 200, 102)",
          "pattern": {
           "shape": ""
          }
         },
         "name": "2023-12-30 05:00:00",
         "offsetgroup": "2023-12-30 05:00:00",
         "orientation": "v",
         "showlegend": true,
         "textposition": "auto",
         "type": "bar",
         "x": [
          "2023-12-30 05:00:00"
         ],
         "xaxis": "x",
         "y": [
          268.7020263671875
         ],
         "yaxis": "y"
        },
        {
         "alignmentgroup": "True",
         "hovertemplate": "color=2023-12-30 06:00:00<br>x=%{x}<br>y=%{y}<extra></extra>",
         "legendgroup": "2023-12-30 06:00:00",
         "marker": {
          "color": "rgb(152, 211, 104)",
          "pattern": {
           "shape": ""
          }
         },
         "name": "2023-12-30 06:00:00",
         "offsetgroup": "2023-12-30 06:00:00",
         "orientation": "v",
         "showlegend": true,
         "textposition": "auto",
         "type": "bar",
         "x": [
          "2023-12-30 06:00:00"
         ],
         "xaxis": "x",
         "y": [
          282.87969970703125
         ],
         "yaxis": "y"
        },
        {
         "alignmentgroup": "True",
         "hovertemplate": "color=2023-12-30 07:00:00<br>x=%{x}<br>y=%{y}<extra></extra>",
         "legendgroup": "2023-12-30 07:00:00",
         "marker": {
          "color": "rgb(167, 218, 107)",
          "pattern": {
           "shape": ""
          }
         },
         "name": "2023-12-30 07:00:00",
         "offsetgroup": "2023-12-30 07:00:00",
         "orientation": "v",
         "showlegend": true,
         "textposition": "auto",
         "type": "bar",
         "x": [
          "2023-12-30 07:00:00"
         ],
         "xaxis": "x",
         "y": [
          291.1108703613281
         ],
         "yaxis": "y"
        },
        {
         "alignmentgroup": "True",
         "hovertemplate": "color=2023-12-30 08:00:00<br>x=%{x}<br>y=%{y}<extra></extra>",
         "legendgroup": "2023-12-30 08:00:00",
         "marker": {
          "color": "rgb(169, 219, 108)",
          "pattern": {
           "shape": ""
          }
         },
         "name": "2023-12-30 08:00:00",
         "offsetgroup": "2023-12-30 08:00:00",
         "orientation": "v",
         "showlegend": true,
         "textposition": "auto",
         "type": "bar",
         "x": [
          "2023-12-30 08:00:00"
         ],
         "xaxis": "x",
         "y": [
          291.6021423339844
         ],
         "yaxis": "y"
        },
        {
         "alignmentgroup": "True",
         "hovertemplate": "color=2023-12-30 09:00:00<br>x=%{x}<br>y=%{y}<extra></extra>",
         "legendgroup": "2023-12-30 09:00:00",
         "marker": {
          "color": "rgb(193, 229, 123)",
          "pattern": {
           "shape": ""
          }
         },
         "name": "2023-12-30 09:00:00",
         "offsetgroup": "2023-12-30 09:00:00",
         "orientation": "v",
         "showlegend": true,
         "textposition": "auto",
         "type": "bar",
         "x": [
          "2023-12-30 09:00:00"
         ],
         "xaxis": "x",
         "y": [
          309.73004150390625
         ],
         "yaxis": "y"
        },
        {
         "alignmentgroup": "True",
         "hovertemplate": "color=2023-12-30 10:00:00<br>x=%{x}<br>y=%{y}<extra></extra>",
         "legendgroup": "2023-12-30 10:00:00",
         "marker": {
          "color": "rgb(187, 226, 120)",
          "pattern": {
           "shape": ""
          }
         },
         "name": "2023-12-30 10:00:00",
         "offsetgroup": "2023-12-30 10:00:00",
         "orientation": "v",
         "showlegend": true,
         "textposition": "auto",
         "type": "bar",
         "x": [
          "2023-12-30 10:00:00"
         ],
         "xaxis": "x",
         "y": [
          304.6162109375
         ],
         "yaxis": "y"
        },
        {
         "alignmentgroup": "True",
         "hovertemplate": "color=2023-12-30 11:00:00<br>x=%{x}<br>y=%{y}<extra></extra>",
         "legendgroup": "2023-12-30 11:00:00",
         "marker": {
          "color": "rgb(228, 244, 153)",
          "pattern": {
           "shape": ""
          }
         },
         "name": "2023-12-30 11:00:00",
         "offsetgroup": "2023-12-30 11:00:00",
         "orientation": "v",
         "showlegend": true,
         "textposition": "auto",
         "type": "bar",
         "x": [
          "2023-12-30 11:00:00"
         ],
         "xaxis": "x",
         "y": [
          335.5577392578125
         ],
         "yaxis": "y"
        },
        {
         "alignmentgroup": "True",
         "hovertemplate": "color=2023-12-30 12:00:00<br>x=%{x}<br>y=%{y}<extra></extra>",
         "legendgroup": "2023-12-30 12:00:00",
         "marker": {
          "color": "rgb(215, 239, 138)",
          "pattern": {
           "shape": ""
          }
         },
         "name": "2023-12-30 12:00:00",
         "offsetgroup": "2023-12-30 12:00:00",
         "orientation": "v",
         "showlegend": true,
         "textposition": "auto",
         "type": "bar",
         "x": [
          "2023-12-30 12:00:00"
         ],
         "xaxis": "x",
         "y": [
          324.31939697265625
         ],
         "yaxis": "y"
        },
        {
         "alignmentgroup": "True",
         "hovertemplate": "color=2023-12-30 13:00:00<br>x=%{x}<br>y=%{y}<extra></extra>",
         "legendgroup": "2023-12-30 13:00:00",
         "marker": {
          "color": "rgb(250, 253, 184)",
          "pattern": {
           "shape": ""
          }
         },
         "name": "2023-12-30 13:00:00",
         "offsetgroup": "2023-12-30 13:00:00",
         "orientation": "v",
         "showlegend": true,
         "textposition": "auto",
         "type": "bar",
         "x": [
          "2023-12-30 13:00:00"
         ],
         "xaxis": "x",
         "y": [
          357.51507568359375
         ],
         "yaxis": "y"
        },
        {
         "alignmentgroup": "True",
         "hovertemplate": "color=2023-12-30 14:00:00<br>x=%{x}<br>y=%{y}<extra></extra>",
         "legendgroup": "2023-12-30 14:00:00",
         "marker": {
          "color": "rgb(255, 246, 176)",
          "pattern": {
           "shape": ""
          }
         },
         "name": "2023-12-30 14:00:00",
         "offsetgroup": "2023-12-30 14:00:00",
         "orientation": "v",
         "showlegend": true,
         "textposition": "auto",
         "type": "bar",
         "x": [
          "2023-12-30 14:00:00"
         ],
         "xaxis": "x",
         "y": [
          373.2730712890625
         ],
         "yaxis": "y"
        },
        {
         "alignmentgroup": "True",
         "hovertemplate": "color=2023-12-30 15:00:00<br>x=%{x}<br>y=%{y}<extra></extra>",
         "legendgroup": "2023-12-30 15:00:00",
         "marker": {
          "color": "rgb(254, 189, 109)",
          "pattern": {
           "shape": ""
          }
         },
         "name": "2023-12-30 15:00:00",
         "offsetgroup": "2023-12-30 15:00:00",
         "orientation": "v",
         "showlegend": true,
         "textposition": "auto",
         "type": "bar",
         "x": [
          "2023-12-30 15:00:00"
         ],
         "xaxis": "x",
         "y": [
          423.7317810058594
         ],
         "yaxis": "y"
        },
        {
         "alignmentgroup": "True",
         "hovertemplate": "color=2023-12-30 16:00:00<br>x=%{x}<br>y=%{y}<extra></extra>",
         "legendgroup": "2023-12-30 16:00:00",
         "marker": {
          "color": "rgb(247, 124, 74)",
          "pattern": {
           "shape": ""
          }
         },
         "name": "2023-12-30 16:00:00",
         "offsetgroup": "2023-12-30 16:00:00",
         "orientation": "v",
         "showlegend": true,
         "textposition": "auto",
         "type": "bar",
         "x": [
          "2023-12-30 16:00:00"
         ],
         "xaxis": "x",
         "y": [
          461.0102844238281
         ],
         "yaxis": "y"
        },
        {
         "alignmentgroup": "True",
         "hovertemplate": "color=2023-12-30 17:00:00<br>x=%{x}<br>y=%{y}<extra></extra>",
         "legendgroup": "2023-12-30 17:00:00",
         "marker": {
          "color": "rgb(247, 129, 76)",
          "pattern": {
           "shape": ""
          }
         },
         "name": "2023-12-30 17:00:00",
         "offsetgroup": "2023-12-30 17:00:00",
         "orientation": "v",
         "showlegend": true,
         "textposition": "auto",
         "type": "bar",
         "x": [
          "2023-12-30 17:00:00"
         ],
         "xaxis": "x",
         "y": [
          458.4286193847656
         ],
         "yaxis": "y"
        },
        {
         "alignmentgroup": "True",
         "hovertemplate": "color=2023-12-30 18:00:00<br>x=%{x}<br>y=%{y}<extra></extra>",
         "legendgroup": "2023-12-30 18:00:00",
         "marker": {
          "color": "rgb(169, 3, 38)",
          "pattern": {
           "shape": ""
          }
         },
         "name": "2023-12-30 18:00:00",
         "offsetgroup": "2023-12-30 18:00:00",
         "orientation": "v",
         "showlegend": true,
         "textposition": "auto",
         "type": "bar",
         "x": [
          "2023-12-30 18:00:00"
         ],
         "xaxis": "x",
         "y": [
          539.4609375
         ],
         "yaxis": "y"
        },
        {
         "alignmentgroup": "True",
         "hovertemplate": "color=2023-12-30 19:00:00<br>x=%{x}<br>y=%{y}<extra></extra>",
         "legendgroup": "2023-12-30 19:00:00",
         "marker": {
          "color": "rgb(165, 0, 38)",
          "pattern": {
           "shape": ""
          }
         },
         "name": "2023-12-30 19:00:00",
         "offsetgroup": "2023-12-30 19:00:00",
         "orientation": "v",
         "showlegend": true,
         "textposition": "auto",
         "type": "bar",
         "x": [
          "2023-12-30 19:00:00"
         ],
         "xaxis": "x",
         "y": [
          542.8897094726562
         ],
         "yaxis": "y"
        },
        {
         "alignmentgroup": "True",
         "hovertemplate": "color=2023-12-30 20:00:00<br>x=%{x}<br>y=%{y}<extra></extra>",
         "legendgroup": "2023-12-30 20:00:00",
         "marker": {
          "color": "rgb(240, 99, 62)",
          "pattern": {
           "shape": ""
          }
         },
         "name": "2023-12-30 20:00:00",
         "offsetgroup": "2023-12-30 20:00:00",
         "orientation": "v",
         "showlegend": true,
         "textposition": "auto",
         "type": "bar",
         "x": [
          "2023-12-30 20:00:00"
         ],
         "xaxis": "x",
         "y": [
          475.775390625
         ],
         "yaxis": "y"
        },
        {
         "alignmentgroup": "True",
         "hovertemplate": "color=2023-12-30 21:00:00<br>x=%{x}<br>y=%{y}<extra></extra>",
         "legendgroup": "2023-12-30 21:00:00",
         "marker": {
          "color": "rgb(254, 205, 123)",
          "pattern": {
           "shape": ""
          }
         },
         "name": "2023-12-30 21:00:00",
         "offsetgroup": "2023-12-30 21:00:00",
         "orientation": "v",
         "showlegend": true,
         "textposition": "auto",
         "type": "bar",
         "x": [
          "2023-12-30 21:00:00"
         ],
         "xaxis": "x",
         "y": [
          412.3857116699219
         ],
         "yaxis": "y"
        },
        {
         "alignmentgroup": "True",
         "hovertemplate": "color=2023-12-30 22:00:00<br>x=%{x}<br>y=%{y}<extra></extra>",
         "legendgroup": "2023-12-30 22:00:00",
         "marker": {
          "color": "rgb(254, 209, 126)",
          "pattern": {
           "shape": ""
          }
         },
         "name": "2023-12-30 22:00:00",
         "offsetgroup": "2023-12-30 22:00:00",
         "orientation": "v",
         "showlegend": true,
         "textposition": "auto",
         "type": "bar",
         "x": [
          "2023-12-30 22:00:00"
         ],
         "xaxis": "x",
         "y": [
          410.0164794921875
         ],
         "yaxis": "y"
        },
        {
         "alignmentgroup": "True",
         "hovertemplate": "color=2023-12-30 23:00:00<br>x=%{x}<br>y=%{y}<extra></extra>",
         "legendgroup": "2023-12-30 23:00:00",
         "marker": {
          "color": "rgb(246, 251, 178)",
          "pattern": {
           "shape": ""
          }
         },
         "name": "2023-12-30 23:00:00",
         "offsetgroup": "2023-12-30 23:00:00",
         "orientation": "v",
         "showlegend": true,
         "textposition": "auto",
         "type": "bar",
         "x": [
          "2023-12-30 23:00:00"
         ],
         "xaxis": "x",
         "y": [
          353.5017395019531
         ],
         "yaxis": "y"
        },
        {
         "alignmentgroup": "True",
         "hovertemplate": "color=2023-12-31 00:00:00<br>x=%{x}<br>y=%{y}<extra></extra>",
         "legendgroup": "2023-12-31 00:00:00",
         "marker": {
          "color": "rgb(254, 189, 109)",
          "pattern": {
           "shape": ""
          }
         },
         "name": "2023-12-31 00:00:00",
         "offsetgroup": "2023-12-31 00:00:00",
         "orientation": "v",
         "showlegend": true,
         "textposition": "auto",
         "type": "bar",
         "x": [
          "2023-12-31 00:00:00"
         ],
         "xaxis": "x",
         "y": [
          424.1786804199219
         ],
         "yaxis": "y"
        },
        {
         "alignmentgroup": "True",
         "hovertemplate": "color=2023-12-31 01:00:00<br>x=%{x}<br>y=%{y}<extra></extra>",
         "legendgroup": "2023-12-31 01:00:00",
         "marker": {
          "color": "rgb(254, 203, 121)",
          "pattern": {
           "shape": ""
          }
         },
         "name": "2023-12-31 01:00:00",
         "offsetgroup": "2023-12-31 01:00:00",
         "orientation": "v",
         "showlegend": true,
         "textposition": "auto",
         "type": "bar",
         "x": [
          "2023-12-31 01:00:00"
         ],
         "xaxis": "x",
         "y": [
          413.1266784667969
         ],
         "yaxis": "y"
        },
        {
         "alignmentgroup": "True",
         "hovertemplate": "color=2023-12-31 02:00:00<br>x=%{x}<br>y=%{y}<extra></extra>",
         "legendgroup": "2023-12-31 02:00:00",
         "marker": {
          "color": "rgb(255, 254, 188)",
          "pattern": {
           "shape": ""
          }
         },
         "name": "2023-12-31 02:00:00",
         "offsetgroup": "2023-12-31 02:00:00",
         "orientation": "v",
         "showlegend": true,
         "textposition": "auto",
         "type": "bar",
         "x": [
          "2023-12-31 02:00:00"
         ],
         "xaxis": "x",
         "y": [
          363.87957763671875
         ],
         "yaxis": "y"
        },
        {
         "alignmentgroup": "True",
         "hovertemplate": "color=2023-12-31 03:00:00<br>x=%{x}<br>y=%{y}<extra></extra>",
         "legendgroup": "2023-12-31 03:00:00",
         "marker": {
          "color": "rgb(255, 252, 186)",
          "pattern": {
           "shape": ""
          }
         },
         "name": "2023-12-31 03:00:00",
         "offsetgroup": "2023-12-31 03:00:00",
         "orientation": "v",
         "showlegend": true,
         "textposition": "auto",
         "type": "bar",
         "x": [
          "2023-12-31 03:00:00"
         ],
         "xaxis": "x",
         "y": [
          365.69720458984375
         ],
         "yaxis": "y"
        },
        {
         "alignmentgroup": "True",
         "hovertemplate": "color=2023-12-31 04:00:00<br>x=%{x}<br>y=%{y}<extra></extra>",
         "legendgroup": "2023-12-31 04:00:00",
         "marker": {
          "color": "rgb(213, 238, 136)",
          "pattern": {
           "shape": ""
          }
         },
         "name": "2023-12-31 04:00:00",
         "offsetgroup": "2023-12-31 04:00:00",
         "orientation": "v",
         "showlegend": true,
         "textposition": "auto",
         "type": "bar",
         "x": [
          "2023-12-31 04:00:00"
         ],
         "xaxis": "x",
         "y": [
          323.0015563964844
         ],
         "yaxis": "y"
        },
        {
         "alignmentgroup": "True",
         "hovertemplate": "color=2023-12-31 05:00:00<br>x=%{x}<br>y=%{y}<extra></extra>",
         "legendgroup": "2023-12-31 05:00:00",
         "marker": {
          "color": "rgb(244, 251, 176)",
          "pattern": {
           "shape": ""
          }
         },
         "name": "2023-12-31 05:00:00",
         "offsetgroup": "2023-12-31 05:00:00",
         "orientation": "v",
         "showlegend": true,
         "textposition": "auto",
         "type": "bar",
         "x": [
          "2023-12-31 05:00:00"
         ],
         "xaxis": "x",
         "y": [
          350.9286804199219
         ],
         "yaxis": "y"
        },
        {
         "alignmentgroup": "True",
         "hovertemplate": "color=2023-12-31 06:00:00<br>x=%{x}<br>y=%{y}<extra></extra>",
         "legendgroup": "2023-12-31 06:00:00",
         "marker": {
          "color": "rgb(211, 237, 135)",
          "pattern": {
           "shape": ""
          }
         },
         "name": "2023-12-31 06:00:00",
         "offsetgroup": "2023-12-31 06:00:00",
         "orientation": "v",
         "showlegend": true,
         "textposition": "auto",
         "type": "bar",
         "x": [
          "2023-12-31 06:00:00"
         ],
         "xaxis": "x",
         "y": [
          321.6224060058594
         ],
         "yaxis": "y"
        },
        {
         "alignmentgroup": "True",
         "hovertemplate": "color=2023-12-31 07:00:00<br>x=%{x}<br>y=%{y}<extra></extra>",
         "legendgroup": "2023-12-31 07:00:00",
         "marker": {
          "color": "rgb(165, 217, 106)",
          "pattern": {
           "shape": ""
          }
         },
         "name": "2023-12-31 07:00:00",
         "offsetgroup": "2023-12-31 07:00:00",
         "orientation": "v",
         "showlegend": true,
         "textposition": "auto",
         "type": "bar",
         "x": [
          "2023-12-31 07:00:00"
         ],
         "xaxis": "x",
         "y": [
          289.1881408691406
         ],
         "yaxis": "y"
        },
        {
         "alignmentgroup": "True",
         "hovertemplate": "color=2023-12-31 08:00:00<br>x=%{x}<br>y=%{y}<extra></extra>",
         "legendgroup": "2023-12-31 08:00:00",
         "marker": {
          "color": "rgb(127, 200, 102)",
          "pattern": {
           "shape": ""
          }
         },
         "name": "2023-12-31 08:00:00",
         "offsetgroup": "2023-12-31 08:00:00",
         "orientation": "v",
         "showlegend": true,
         "textposition": "auto",
         "type": "bar",
         "x": [
          "2023-12-31 08:00:00"
         ],
         "xaxis": "x",
         "y": [
          267.72918701171875
         ],
         "yaxis": "y"
        },
        {
         "alignmentgroup": "True",
         "hovertemplate": "color=2023-12-31 09:00:00<br>x=%{x}<br>y=%{y}<extra></extra>",
         "legendgroup": "2023-12-31 09:00:00",
         "marker": {
          "color": "rgb(177, 222, 113)",
          "pattern": {
           "shape": ""
          }
         },
         "name": "2023-12-31 09:00:00",
         "offsetgroup": "2023-12-31 09:00:00",
         "orientation": "v",
         "showlegend": true,
         "textposition": "auto",
         "type": "bar",
         "x": [
          "2023-12-31 09:00:00"
         ],
         "xaxis": "x",
         "y": [
          297.4513244628906
         ],
         "yaxis": "y"
        },
        {
         "alignmentgroup": "True",
         "hovertemplate": "color=2023-12-31 10:00:00<br>x=%{x}<br>y=%{y}<extra></extra>",
         "legendgroup": "2023-12-31 10:00:00",
         "marker": {
          "color": "rgb(160, 215, 105)",
          "pattern": {
           "shape": ""
          }
         },
         "name": "2023-12-31 10:00:00",
         "offsetgroup": "2023-12-31 10:00:00",
         "orientation": "v",
         "showlegend": true,
         "textposition": "auto",
         "type": "bar",
         "x": [
          "2023-12-31 10:00:00"
         ],
         "xaxis": "x",
         "y": [
          286.2637023925781
         ],
         "yaxis": "y"
        },
        {
         "alignmentgroup": "True",
         "hovertemplate": "color=2023-12-31 11:00:00<br>x=%{x}<br>y=%{y}<extra></extra>",
         "legendgroup": "2023-12-31 11:00:00",
         "marker": {
          "color": "rgb(96, 186, 97)",
          "pattern": {
           "shape": ""
          }
         },
         "name": "2023-12-31 11:00:00",
         "offsetgroup": "2023-12-31 11:00:00",
         "orientation": "v",
         "showlegend": true,
         "textposition": "auto",
         "type": "bar",
         "x": [
          "2023-12-31 11:00:00"
         ],
         "xaxis": "x",
         "y": [
          251.75668334960938
         ],
         "yaxis": "y"
        },
        {
         "alignmentgroup": "True",
         "hovertemplate": "color=2023-12-31 12:00:00<br>x=%{x}<br>y=%{y}<extra></extra>",
         "legendgroup": "2023-12-31 12:00:00",
         "marker": {
          "color": "rgb(39, 159, 83)",
          "pattern": {
           "shape": ""
          }
         },
         "name": "2023-12-31 12:00:00",
         "offsetgroup": "2023-12-31 12:00:00",
         "orientation": "v",
         "showlegend": true,
         "textposition": "auto",
         "type": "bar",
         "x": [
          "2023-12-31 12:00:00"
         ],
         "xaxis": "x",
         "y": [
          223.96746826171875
         ],
         "yaxis": "y"
        },
        {
         "alignmentgroup": "True",
         "hovertemplate": "color=2023-12-31 13:00:00<br>x=%{x}<br>y=%{y}<extra></extra>",
         "legendgroup": "2023-12-31 13:00:00",
         "marker": {
          "color": "rgb(33, 156, 82)",
          "pattern": {
           "shape": ""
          }
         },
         "name": "2023-12-31 13:00:00",
         "offsetgroup": "2023-12-31 13:00:00",
         "orientation": "v",
         "showlegend": true,
         "textposition": "auto",
         "type": "bar",
         "x": [
          "2023-12-31 13:00:00"
         ],
         "xaxis": "x",
         "y": [
          221.3065185546875
         ],
         "yaxis": "y"
        },
        {
         "alignmentgroup": "True",
         "hovertemplate": "color=2023-12-31 14:00:00<br>x=%{x}<br>y=%{y}<extra></extra>",
         "legendgroup": "2023-12-31 14:00:00",
         "marker": {
          "color": "rgb(127, 200, 102)",
          "pattern": {
           "shape": ""
          }
         },
         "name": "2023-12-31 14:00:00",
         "offsetgroup": "2023-12-31 14:00:00",
         "orientation": "v",
         "showlegend": true,
         "textposition": "auto",
         "type": "bar",
         "x": [
          "2023-12-31 14:00:00"
         ],
         "xaxis": "x",
         "y": [
          268.0732727050781
         ],
         "yaxis": "y"
        },
        {
         "alignmentgroup": "True",
         "hovertemplate": "color=2023-12-31 15:00:00<br>x=%{x}<br>y=%{y}<extra></extra>",
         "legendgroup": "2023-12-31 15:00:00",
         "marker": {
          "color": "rgb(117, 196, 101)",
          "pattern": {
           "shape": ""
          }
         },
         "name": "2023-12-31 15:00:00",
         "offsetgroup": "2023-12-31 15:00:00",
         "orientation": "v",
         "showlegend": true,
         "textposition": "auto",
         "type": "bar",
         "x": [
          "2023-12-31 15:00:00"
         ],
         "xaxis": "x",
         "y": [
          262.2679748535156
         ],
         "yaxis": "y"
        },
        {
         "alignmentgroup": "True",
         "hovertemplate": "color=2023-12-31 16:00:00<br>x=%{x}<br>y=%{y}<extra></extra>",
         "legendgroup": "2023-12-31 16:00:00",
         "marker": {
          "color": "rgb(191, 228, 122)",
          "pattern": {
           "shape": ""
          }
         },
         "name": "2023-12-31 16:00:00",
         "offsetgroup": "2023-12-31 16:00:00",
         "orientation": "v",
         "showlegend": true,
         "textposition": "auto",
         "type": "bar",
         "x": [
          "2023-12-31 16:00:00"
         ],
         "xaxis": "x",
         "y": [
          307.0755615234375
         ],
         "yaxis": "y"
        },
        {
         "alignmentgroup": "True",
         "hovertemplate": "color=2023-12-31 17:00:00<br>x=%{x}<br>y=%{y}<extra></extra>",
         "legendgroup": "2023-12-31 17:00:00",
         "marker": {
          "color": "rgb(181, 224, 116)",
          "pattern": {
           "shape": ""
          }
         },
         "name": "2023-12-31 17:00:00",
         "offsetgroup": "2023-12-31 17:00:00",
         "orientation": "v",
         "showlegend": true,
         "textposition": "auto",
         "type": "bar",
         "x": [
          "2023-12-31 17:00:00"
         ],
         "xaxis": "x",
         "y": [
          300.59600830078125
         ],
         "yaxis": "y"
        },
        {
         "alignmentgroup": "True",
         "hovertemplate": "color=2023-12-31 18:00:00<br>x=%{x}<br>y=%{y}<extra></extra>",
         "legendgroup": "2023-12-31 18:00:00",
         "marker": {
          "color": "rgb(213, 238, 136)",
          "pattern": {
           "shape": ""
          }
         },
         "name": "2023-12-31 18:00:00",
         "offsetgroup": "2023-12-31 18:00:00",
         "orientation": "v",
         "showlegend": true,
         "textposition": "auto",
         "type": "bar",
         "x": [
          "2023-12-31 18:00:00"
         ],
         "xaxis": "x",
         "y": [
          323.25701904296875
         ],
         "yaxis": "y"
        },
        {
         "alignmentgroup": "True",
         "hovertemplate": "color=2023-12-31 19:00:00<br>x=%{x}<br>y=%{y}<extra></extra>",
         "legendgroup": "2023-12-31 19:00:00",
         "marker": {
          "color": "rgb(33, 156, 82)",
          "pattern": {
           "shape": ""
          }
         },
         "name": "2023-12-31 19:00:00",
         "offsetgroup": "2023-12-31 19:00:00",
         "orientation": "v",
         "showlegend": true,
         "textposition": "auto",
         "type": "bar",
         "x": [
          "2023-12-31 19:00:00"
         ],
         "xaxis": "x",
         "y": [
          222.0826873779297
         ],
         "yaxis": "y"
        },
        {
         "alignmentgroup": "True",
         "hovertemplate": "color=2023-12-31 20:00:00<br>x=%{x}<br>y=%{y}<extra></extra>",
         "legendgroup": "2023-12-31 20:00:00",
         "marker": {
          "color": "rgb(72, 175, 91)",
          "pattern": {
           "shape": ""
          }
         },
         "name": "2023-12-31 20:00:00",
         "offsetgroup": "2023-12-31 20:00:00",
         "orientation": "v",
         "showlegend": true,
         "textposition": "auto",
         "type": "bar",
         "x": [
          "2023-12-31 20:00:00"
         ],
         "xaxis": "x",
         "y": [
          239.887939453125
         ],
         "yaxis": "y"
        },
        {
         "alignmentgroup": "True",
         "hovertemplate": "color=2023-12-31 21:00:00<br>x=%{x}<br>y=%{y}<extra></extra>",
         "legendgroup": "2023-12-31 21:00:00",
         "marker": {
          "color": "rgb(0, 104, 55)",
          "pattern": {
           "shape": ""
          }
         },
         "name": "2023-12-31 21:00:00",
         "offsetgroup": "2023-12-31 21:00:00",
         "orientation": "v",
         "showlegend": true,
         "textposition": "auto",
         "type": "bar",
         "x": [
          "2023-12-31 21:00:00"
         ],
         "xaxis": "x",
         "y": [
          181.71786499023438
         ],
         "yaxis": "y"
        },
        {
         "alignmentgroup": "True",
         "hovertemplate": "color=2023-12-31 22:00:00<br>x=%{x}<br>y=%{y}<extra></extra>",
         "legendgroup": "2023-12-31 22:00:00",
         "marker": {
          "color": "rgb(5, 113, 60)",
          "pattern": {
           "shape": ""
          }
         },
         "name": "2023-12-31 22:00:00",
         "offsetgroup": "2023-12-31 22:00:00",
         "orientation": "v",
         "showlegend": true,
         "textposition": "auto",
         "type": "bar",
         "x": [
          "2023-12-31 22:00:00"
         ],
         "xaxis": "x",
         "y": [
          188.75790405273438
         ],
         "yaxis": "y"
        },
        {
         "alignmentgroup": "True",
         "hovertemplate": "color=2023-12-31 23:00:00<br>x=%{x}<br>y=%{y}<extra></extra>",
         "legendgroup": "2023-12-31 23:00:00",
         "marker": {
          "color": "rgb(0, 104, 55)",
          "pattern": {
           "shape": ""
          }
         },
         "name": "2023-12-31 23:00:00",
         "offsetgroup": "2023-12-31 23:00:00",
         "orientation": "v",
         "showlegend": true,
         "textposition": "auto",
         "type": "bar",
         "x": [
          "2023-12-31 23:00:00"
         ],
         "xaxis": "x",
         "y": [
          181.28628540039062
         ],
         "yaxis": "y"
        }
       ],
       "layout": {
        "barmode": "relative",
        "legend": {
         "title": {
          "text": "color"
         },
         "tracegroupgap": 0
        },
        "margin": {
         "t": 60
        },
        "showlegend": false,
        "template": {
         "data": {
          "bar": [
           {
            "error_x": {
             "color": "#2a3f5f"
            },
            "error_y": {
             "color": "#2a3f5f"
            },
            "marker": {
             "line": {
              "color": "#E5ECF6",
              "width": 0.5
             },
             "pattern": {
              "fillmode": "overlay",
              "size": 10,
              "solidity": 0.2
             }
            },
            "type": "bar"
           }
          ],
          "barpolar": [
           {
            "marker": {
             "line": {
              "color": "#E5ECF6",
              "width": 0.5
             },
             "pattern": {
              "fillmode": "overlay",
              "size": 10,
              "solidity": 0.2
             }
            },
            "type": "barpolar"
           }
          ],
          "carpet": [
           {
            "aaxis": {
             "endlinecolor": "#2a3f5f",
             "gridcolor": "white",
             "linecolor": "white",
             "minorgridcolor": "white",
             "startlinecolor": "#2a3f5f"
            },
            "baxis": {
             "endlinecolor": "#2a3f5f",
             "gridcolor": "white",
             "linecolor": "white",
             "minorgridcolor": "white",
             "startlinecolor": "#2a3f5f"
            },
            "type": "carpet"
           }
          ],
          "choropleth": [
           {
            "colorbar": {
             "outlinewidth": 0,
             "ticks": ""
            },
            "type": "choropleth"
           }
          ],
          "contour": [
           {
            "colorbar": {
             "outlinewidth": 0,
             "ticks": ""
            },
            "colorscale": [
             [
              0,
              "#0d0887"
             ],
             [
              0.1111111111111111,
              "#46039f"
             ],
             [
              0.2222222222222222,
              "#7201a8"
             ],
             [
              0.3333333333333333,
              "#9c179e"
             ],
             [
              0.4444444444444444,
              "#bd3786"
             ],
             [
              0.5555555555555556,
              "#d8576b"
             ],
             [
              0.6666666666666666,
              "#ed7953"
             ],
             [
              0.7777777777777778,
              "#fb9f3a"
             ],
             [
              0.8888888888888888,
              "#fdca26"
             ],
             [
              1,
              "#f0f921"
             ]
            ],
            "type": "contour"
           }
          ],
          "contourcarpet": [
           {
            "colorbar": {
             "outlinewidth": 0,
             "ticks": ""
            },
            "type": "contourcarpet"
           }
          ],
          "heatmap": [
           {
            "colorbar": {
             "outlinewidth": 0,
             "ticks": ""
            },
            "colorscale": [
             [
              0,
              "#0d0887"
             ],
             [
              0.1111111111111111,
              "#46039f"
             ],
             [
              0.2222222222222222,
              "#7201a8"
             ],
             [
              0.3333333333333333,
              "#9c179e"
             ],
             [
              0.4444444444444444,
              "#bd3786"
             ],
             [
              0.5555555555555556,
              "#d8576b"
             ],
             [
              0.6666666666666666,
              "#ed7953"
             ],
             [
              0.7777777777777778,
              "#fb9f3a"
             ],
             [
              0.8888888888888888,
              "#fdca26"
             ],
             [
              1,
              "#f0f921"
             ]
            ],
            "type": "heatmap"
           }
          ],
          "heatmapgl": [
           {
            "colorbar": {
             "outlinewidth": 0,
             "ticks": ""
            },
            "colorscale": [
             [
              0,
              "#0d0887"
             ],
             [
              0.1111111111111111,
              "#46039f"
             ],
             [
              0.2222222222222222,
              "#7201a8"
             ],
             [
              0.3333333333333333,
              "#9c179e"
             ],
             [
              0.4444444444444444,
              "#bd3786"
             ],
             [
              0.5555555555555556,
              "#d8576b"
             ],
             [
              0.6666666666666666,
              "#ed7953"
             ],
             [
              0.7777777777777778,
              "#fb9f3a"
             ],
             [
              0.8888888888888888,
              "#fdca26"
             ],
             [
              1,
              "#f0f921"
             ]
            ],
            "type": "heatmapgl"
           }
          ],
          "histogram": [
           {
            "marker": {
             "pattern": {
              "fillmode": "overlay",
              "size": 10,
              "solidity": 0.2
             }
            },
            "type": "histogram"
           }
          ],
          "histogram2d": [
           {
            "colorbar": {
             "outlinewidth": 0,
             "ticks": ""
            },
            "colorscale": [
             [
              0,
              "#0d0887"
             ],
             [
              0.1111111111111111,
              "#46039f"
             ],
             [
              0.2222222222222222,
              "#7201a8"
             ],
             [
              0.3333333333333333,
              "#9c179e"
             ],
             [
              0.4444444444444444,
              "#bd3786"
             ],
             [
              0.5555555555555556,
              "#d8576b"
             ],
             [
              0.6666666666666666,
              "#ed7953"
             ],
             [
              0.7777777777777778,
              "#fb9f3a"
             ],
             [
              0.8888888888888888,
              "#fdca26"
             ],
             [
              1,
              "#f0f921"
             ]
            ],
            "type": "histogram2d"
           }
          ],
          "histogram2dcontour": [
           {
            "colorbar": {
             "outlinewidth": 0,
             "ticks": ""
            },
            "colorscale": [
             [
              0,
              "#0d0887"
             ],
             [
              0.1111111111111111,
              "#46039f"
             ],
             [
              0.2222222222222222,
              "#7201a8"
             ],
             [
              0.3333333333333333,
              "#9c179e"
             ],
             [
              0.4444444444444444,
              "#bd3786"
             ],
             [
              0.5555555555555556,
              "#d8576b"
             ],
             [
              0.6666666666666666,
              "#ed7953"
             ],
             [
              0.7777777777777778,
              "#fb9f3a"
             ],
             [
              0.8888888888888888,
              "#fdca26"
             ],
             [
              1,
              "#f0f921"
             ]
            ],
            "type": "histogram2dcontour"
           }
          ],
          "mesh3d": [
           {
            "colorbar": {
             "outlinewidth": 0,
             "ticks": ""
            },
            "type": "mesh3d"
           }
          ],
          "parcoords": [
           {
            "line": {
             "colorbar": {
              "outlinewidth": 0,
              "ticks": ""
             }
            },
            "type": "parcoords"
           }
          ],
          "pie": [
           {
            "automargin": true,
            "type": "pie"
           }
          ],
          "scatter": [
           {
            "fillpattern": {
             "fillmode": "overlay",
             "size": 10,
             "solidity": 0.2
            },
            "type": "scatter"
           }
          ],
          "scatter3d": [
           {
            "line": {
             "colorbar": {
              "outlinewidth": 0,
              "ticks": ""
             }
            },
            "marker": {
             "colorbar": {
              "outlinewidth": 0,
              "ticks": ""
             }
            },
            "type": "scatter3d"
           }
          ],
          "scattercarpet": [
           {
            "marker": {
             "colorbar": {
              "outlinewidth": 0,
              "ticks": ""
             }
            },
            "type": "scattercarpet"
           }
          ],
          "scattergeo": [
           {
            "marker": {
             "colorbar": {
              "outlinewidth": 0,
              "ticks": ""
             }
            },
            "type": "scattergeo"
           }
          ],
          "scattergl": [
           {
            "marker": {
             "colorbar": {
              "outlinewidth": 0,
              "ticks": ""
             }
            },
            "type": "scattergl"
           }
          ],
          "scattermapbox": [
           {
            "marker": {
             "colorbar": {
              "outlinewidth": 0,
              "ticks": ""
             }
            },
            "type": "scattermapbox"
           }
          ],
          "scatterpolar": [
           {
            "marker": {
             "colorbar": {
              "outlinewidth": 0,
              "ticks": ""
             }
            },
            "type": "scatterpolar"
           }
          ],
          "scatterpolargl": [
           {
            "marker": {
             "colorbar": {
              "outlinewidth": 0,
              "ticks": ""
             }
            },
            "type": "scatterpolargl"
           }
          ],
          "scatterternary": [
           {
            "marker": {
             "colorbar": {
              "outlinewidth": 0,
              "ticks": ""
             }
            },
            "type": "scatterternary"
           }
          ],
          "surface": [
           {
            "colorbar": {
             "outlinewidth": 0,
             "ticks": ""
            },
            "colorscale": [
             [
              0,
              "#0d0887"
             ],
             [
              0.1111111111111111,
              "#46039f"
             ],
             [
              0.2222222222222222,
              "#7201a8"
             ],
             [
              0.3333333333333333,
              "#9c179e"
             ],
             [
              0.4444444444444444,
              "#bd3786"
             ],
             [
              0.5555555555555556,
              "#d8576b"
             ],
             [
              0.6666666666666666,
              "#ed7953"
             ],
             [
              0.7777777777777778,
              "#fb9f3a"
             ],
             [
              0.8888888888888888,
              "#fdca26"
             ],
             [
              1,
              "#f0f921"
             ]
            ],
            "type": "surface"
           }
          ],
          "table": [
           {
            "cells": {
             "fill": {
              "color": "#EBF0F8"
             },
             "line": {
              "color": "white"
             }
            },
            "header": {
             "fill": {
              "color": "#C8D4E3"
             },
             "line": {
              "color": "white"
             }
            },
            "type": "table"
           }
          ]
         },
         "layout": {
          "annotationdefaults": {
           "arrowcolor": "#2a3f5f",
           "arrowhead": 0,
           "arrowwidth": 1
          },
          "autotypenumbers": "strict",
          "coloraxis": {
           "colorbar": {
            "outlinewidth": 0,
            "ticks": ""
           }
          },
          "colorscale": {
           "diverging": [
            [
             0,
             "#8e0152"
            ],
            [
             0.1,
             "#c51b7d"
            ],
            [
             0.2,
             "#de77ae"
            ],
            [
             0.3,
             "#f1b6da"
            ],
            [
             0.4,
             "#fde0ef"
            ],
            [
             0.5,
             "#f7f7f7"
            ],
            [
             0.6,
             "#e6f5d0"
            ],
            [
             0.7,
             "#b8e186"
            ],
            [
             0.8,
             "#7fbc41"
            ],
            [
             0.9,
             "#4d9221"
            ],
            [
             1,
             "#276419"
            ]
           ],
           "sequential": [
            [
             0,
             "#0d0887"
            ],
            [
             0.1111111111111111,
             "#46039f"
            ],
            [
             0.2222222222222222,
             "#7201a8"
            ],
            [
             0.3333333333333333,
             "#9c179e"
            ],
            [
             0.4444444444444444,
             "#bd3786"
            ],
            [
             0.5555555555555556,
             "#d8576b"
            ],
            [
             0.6666666666666666,
             "#ed7953"
            ],
            [
             0.7777777777777778,
             "#fb9f3a"
            ],
            [
             0.8888888888888888,
             "#fdca26"
            ],
            [
             1,
             "#f0f921"
            ]
           ],
           "sequentialminus": [
            [
             0,
             "#0d0887"
            ],
            [
             0.1111111111111111,
             "#46039f"
            ],
            [
             0.2222222222222222,
             "#7201a8"
            ],
            [
             0.3333333333333333,
             "#9c179e"
            ],
            [
             0.4444444444444444,
             "#bd3786"
            ],
            [
             0.5555555555555556,
             "#d8576b"
            ],
            [
             0.6666666666666666,
             "#ed7953"
            ],
            [
             0.7777777777777778,
             "#fb9f3a"
            ],
            [
             0.8888888888888888,
             "#fdca26"
            ],
            [
             1,
             "#f0f921"
            ]
           ]
          },
          "colorway": [
           "#636efa",
           "#EF553B",
           "#00cc96",
           "#ab63fa",
           "#FFA15A",
           "#19d3f3",
           "#FF6692",
           "#B6E880",
           "#FF97FF",
           "#FECB52"
          ],
          "font": {
           "color": "#2a3f5f"
          },
          "geo": {
           "bgcolor": "white",
           "lakecolor": "white",
           "landcolor": "#E5ECF6",
           "showlakes": true,
           "showland": true,
           "subunitcolor": "white"
          },
          "hoverlabel": {
           "align": "left"
          },
          "hovermode": "closest",
          "mapbox": {
           "style": "light"
          },
          "paper_bgcolor": "white",
          "plot_bgcolor": "#E5ECF6",
          "polar": {
           "angularaxis": {
            "gridcolor": "white",
            "linecolor": "white",
            "ticks": ""
           },
           "bgcolor": "#E5ECF6",
           "radialaxis": {
            "gridcolor": "white",
            "linecolor": "white",
            "ticks": ""
           }
          },
          "scene": {
           "xaxis": {
            "backgroundcolor": "#E5ECF6",
            "gridcolor": "white",
            "gridwidth": 2,
            "linecolor": "white",
            "showbackground": true,
            "ticks": "",
            "zerolinecolor": "white"
           },
           "yaxis": {
            "backgroundcolor": "#E5ECF6",
            "gridcolor": "white",
            "gridwidth": 2,
            "linecolor": "white",
            "showbackground": true,
            "ticks": "",
            "zerolinecolor": "white"
           },
           "zaxis": {
            "backgroundcolor": "#E5ECF6",
            "gridcolor": "white",
            "gridwidth": 2,
            "linecolor": "white",
            "showbackground": true,
            "ticks": "",
            "zerolinecolor": "white"
           }
          },
          "shapedefaults": {
           "line": {
            "color": "#2a3f5f"
           }
          },
          "ternary": {
           "aaxis": {
            "gridcolor": "white",
            "linecolor": "white",
            "ticks": ""
           },
           "baxis": {
            "gridcolor": "white",
            "linecolor": "white",
            "ticks": ""
           },
           "bgcolor": "#E5ECF6",
           "caxis": {
            "gridcolor": "white",
            "linecolor": "white",
            "ticks": ""
           }
          },
          "title": {
           "x": 0.05
          },
          "xaxis": {
           "automargin": true,
           "gridcolor": "white",
           "linecolor": "white",
           "ticks": "",
           "title": {
            "standoff": 15
           },
           "zerolinecolor": "white",
           "zerolinewidth": 2
          },
          "yaxis": {
           "automargin": true,
           "gridcolor": "white",
           "linecolor": "white",
           "ticks": "",
           "title": {
            "standoff": 15
           },
           "zerolinecolor": "white",
           "zerolinewidth": 2
          }
         }
        },
        "xaxis": {
         "anchor": "y",
         "domain": [
          0,
          1
         ],
         "title": {
          "text": "x"
         }
        },
        "yaxis": {
         "anchor": "x",
         "domain": [
          0,
          1
         ],
         "title": {
          "text": "y"
         }
        }
       }
      }
     },
     "metadata": {},
     "output_type": "display_data"
    }
   ],
   "source": [
    "cmap = plt.get_cmap(\"RdYlGn_r\")\n",
    "\n",
    "y = co2_predictions\n",
    "x = time_axis\n",
    "y_scaled = (y-np.min(y))/(np.max(y)-np.min(y))\n",
    "\n",
    "plotly_colormap = [\n",
    "    f'rgb{tuple(int(256 * x_) for x_ in cmap(y_)[:-1])}' for y_ in y_scaled]\n",
    "\n",
    "fig = px.bar(x=x, y=y, color=x,\n",
    "             color_discrete_sequence=plotly_colormap).update_layout(showlegend=False)\n",
    "\n",
    "fig.show()"
   ]
  },
  {
   "cell_type": "code",
   "execution_count": 137,
   "metadata": {},
   "outputs": [
    {
     "ename": "ValueError",
     "evalue": "All arrays must be of the same length",
     "output_type": "error",
     "traceback": [
      "\u001b[0;31m---------------------------------------------------------------------------\u001b[0m",
      "\u001b[0;31mValueError\u001b[0m                                Traceback (most recent call last)",
      "Cell \u001b[0;32mIn[137], line 17\u001b[0m\n\u001b[1;32m     15\u001b[0m \u001b[38;5;66;03m# Create a DataFrame\u001b[39;00m\n\u001b[1;32m     16\u001b[0m data \u001b[38;5;241m=\u001b[39m {\u001b[38;5;124m'\u001b[39m\u001b[38;5;124mCategories\u001b[39m\u001b[38;5;124m'\u001b[39m: categories, \u001b[38;5;124m'\u001b[39m\u001b[38;5;124mValues\u001b[39m\u001b[38;5;124m'\u001b[39m: values}\n\u001b[0;32m---> 17\u001b[0m df \u001b[38;5;241m=\u001b[39m \u001b[43mpd\u001b[49m\u001b[38;5;241;43m.\u001b[39;49m\u001b[43mDataFrame\u001b[49m\u001b[43m(\u001b[49m\u001b[43mdata\u001b[49m\u001b[43m)\u001b[49m\n\u001b[1;32m     19\u001b[0m \u001b[38;5;66;03m# Create bar chart with custom colors\u001b[39;00m\n\u001b[1;32m     20\u001b[0m fig \u001b[38;5;241m=\u001b[39m px\u001b[38;5;241m.\u001b[39mbar(df, x\u001b[38;5;241m=\u001b[39m\u001b[38;5;124m'\u001b[39m\u001b[38;5;124mCategories\u001b[39m\u001b[38;5;124m'\u001b[39m, y\u001b[38;5;241m=\u001b[39m\u001b[38;5;124m'\u001b[39m\u001b[38;5;124mValues\u001b[39m\u001b[38;5;124m'\u001b[39m, color\u001b[38;5;241m=\u001b[39m\u001b[38;5;124m\"\u001b[39m\u001b[38;5;124mCategories\u001b[39m\u001b[38;5;124m\"\u001b[39m,\n\u001b[1;32m     21\u001b[0m              color_discrete_sequence\u001b[38;5;241m=\u001b[39mplotly_colormap,\n\u001b[1;32m     22\u001b[0m              title\u001b[38;5;241m=\u001b[39m\u001b[38;5;124m'\u001b[39m\u001b[38;5;124mBar Chart with Colormap Colors\u001b[39m\u001b[38;5;124m'\u001b[39m, labels\u001b[38;5;241m=\u001b[39m{\u001b[38;5;124m'\u001b[39m\u001b[38;5;124mValues\u001b[39m\u001b[38;5;124m'\u001b[39m: \u001b[38;5;124m'\u001b[39m\u001b[38;5;124mBar Values\u001b[39m\u001b[38;5;124m'\u001b[39m, \u001b[38;5;124m'\u001b[39m\u001b[38;5;124mCategories\u001b[39m\u001b[38;5;124m'\u001b[39m: \u001b[38;5;124m'\u001b[39m\u001b[38;5;124mCategories\u001b[39m\u001b[38;5;124m'\u001b[39m})\n",
      "File \u001b[0;32m~/anaconda3/envs/renewable_energy_prediction/lib/python3.10/site-packages/pandas/core/frame.py:767\u001b[0m, in \u001b[0;36mDataFrame.__init__\u001b[0;34m(self, data, index, columns, dtype, copy)\u001b[0m\n\u001b[1;32m    761\u001b[0m     mgr \u001b[38;5;241m=\u001b[39m \u001b[38;5;28mself\u001b[39m\u001b[38;5;241m.\u001b[39m_init_mgr(\n\u001b[1;32m    762\u001b[0m         data, axes\u001b[38;5;241m=\u001b[39m{\u001b[38;5;124m\"\u001b[39m\u001b[38;5;124mindex\u001b[39m\u001b[38;5;124m\"\u001b[39m: index, \u001b[38;5;124m\"\u001b[39m\u001b[38;5;124mcolumns\u001b[39m\u001b[38;5;124m\"\u001b[39m: columns}, dtype\u001b[38;5;241m=\u001b[39mdtype, copy\u001b[38;5;241m=\u001b[39mcopy\n\u001b[1;32m    763\u001b[0m     )\n\u001b[1;32m    765\u001b[0m \u001b[38;5;28;01melif\u001b[39;00m \u001b[38;5;28misinstance\u001b[39m(data, \u001b[38;5;28mdict\u001b[39m):\n\u001b[1;32m    766\u001b[0m     \u001b[38;5;66;03m# GH#38939 de facto copy defaults to False only in non-dict cases\u001b[39;00m\n\u001b[0;32m--> 767\u001b[0m     mgr \u001b[38;5;241m=\u001b[39m \u001b[43mdict_to_mgr\u001b[49m\u001b[43m(\u001b[49m\u001b[43mdata\u001b[49m\u001b[43m,\u001b[49m\u001b[43m \u001b[49m\u001b[43mindex\u001b[49m\u001b[43m,\u001b[49m\u001b[43m \u001b[49m\u001b[43mcolumns\u001b[49m\u001b[43m,\u001b[49m\u001b[43m \u001b[49m\u001b[43mdtype\u001b[49m\u001b[38;5;241;43m=\u001b[39;49m\u001b[43mdtype\u001b[49m\u001b[43m,\u001b[49m\u001b[43m \u001b[49m\u001b[43mcopy\u001b[49m\u001b[38;5;241;43m=\u001b[39;49m\u001b[43mcopy\u001b[49m\u001b[43m,\u001b[49m\u001b[43m \u001b[49m\u001b[43mtyp\u001b[49m\u001b[38;5;241;43m=\u001b[39;49m\u001b[43mmanager\u001b[49m\u001b[43m)\u001b[49m\n\u001b[1;32m    768\u001b[0m \u001b[38;5;28;01melif\u001b[39;00m \u001b[38;5;28misinstance\u001b[39m(data, ma\u001b[38;5;241m.\u001b[39mMaskedArray):\n\u001b[1;32m    769\u001b[0m     \u001b[38;5;28;01mfrom\u001b[39;00m \u001b[38;5;21;01mnumpy\u001b[39;00m\u001b[38;5;21;01m.\u001b[39;00m\u001b[38;5;21;01mma\u001b[39;00m \u001b[38;5;28;01mimport\u001b[39;00m mrecords\n",
      "File \u001b[0;32m~/anaconda3/envs/renewable_energy_prediction/lib/python3.10/site-packages/pandas/core/internals/construction.py:503\u001b[0m, in \u001b[0;36mdict_to_mgr\u001b[0;34m(data, index, columns, dtype, typ, copy)\u001b[0m\n\u001b[1;32m    499\u001b[0m     \u001b[38;5;28;01melse\u001b[39;00m:\n\u001b[1;32m    500\u001b[0m         \u001b[38;5;66;03m# dtype check to exclude e.g. range objects, scalars\u001b[39;00m\n\u001b[1;32m    501\u001b[0m         arrays \u001b[38;5;241m=\u001b[39m [x\u001b[38;5;241m.\u001b[39mcopy() \u001b[38;5;28;01mif\u001b[39;00m \u001b[38;5;28mhasattr\u001b[39m(x, \u001b[38;5;124m\"\u001b[39m\u001b[38;5;124mdtype\u001b[39m\u001b[38;5;124m\"\u001b[39m) \u001b[38;5;28;01melse\u001b[39;00m x \u001b[38;5;28;01mfor\u001b[39;00m x \u001b[38;5;129;01min\u001b[39;00m arrays]\n\u001b[0;32m--> 503\u001b[0m \u001b[38;5;28;01mreturn\u001b[39;00m \u001b[43marrays_to_mgr\u001b[49m\u001b[43m(\u001b[49m\u001b[43marrays\u001b[49m\u001b[43m,\u001b[49m\u001b[43m \u001b[49m\u001b[43mcolumns\u001b[49m\u001b[43m,\u001b[49m\u001b[43m \u001b[49m\u001b[43mindex\u001b[49m\u001b[43m,\u001b[49m\u001b[43m \u001b[49m\u001b[43mdtype\u001b[49m\u001b[38;5;241;43m=\u001b[39;49m\u001b[43mdtype\u001b[49m\u001b[43m,\u001b[49m\u001b[43m \u001b[49m\u001b[43mtyp\u001b[49m\u001b[38;5;241;43m=\u001b[39;49m\u001b[43mtyp\u001b[49m\u001b[43m,\u001b[49m\u001b[43m \u001b[49m\u001b[43mconsolidate\u001b[49m\u001b[38;5;241;43m=\u001b[39;49m\u001b[43mcopy\u001b[49m\u001b[43m)\u001b[49m\n",
      "File \u001b[0;32m~/anaconda3/envs/renewable_energy_prediction/lib/python3.10/site-packages/pandas/core/internals/construction.py:114\u001b[0m, in \u001b[0;36marrays_to_mgr\u001b[0;34m(arrays, columns, index, dtype, verify_integrity, typ, consolidate)\u001b[0m\n\u001b[1;32m    111\u001b[0m \u001b[38;5;28;01mif\u001b[39;00m verify_integrity:\n\u001b[1;32m    112\u001b[0m     \u001b[38;5;66;03m# figure out the index, if necessary\u001b[39;00m\n\u001b[1;32m    113\u001b[0m     \u001b[38;5;28;01mif\u001b[39;00m index \u001b[38;5;129;01mis\u001b[39;00m \u001b[38;5;28;01mNone\u001b[39;00m:\n\u001b[0;32m--> 114\u001b[0m         index \u001b[38;5;241m=\u001b[39m \u001b[43m_extract_index\u001b[49m\u001b[43m(\u001b[49m\u001b[43marrays\u001b[49m\u001b[43m)\u001b[49m\n\u001b[1;32m    115\u001b[0m     \u001b[38;5;28;01melse\u001b[39;00m:\n\u001b[1;32m    116\u001b[0m         index \u001b[38;5;241m=\u001b[39m ensure_index(index)\n",
      "File \u001b[0;32m~/anaconda3/envs/renewable_energy_prediction/lib/python3.10/site-packages/pandas/core/internals/construction.py:677\u001b[0m, in \u001b[0;36m_extract_index\u001b[0;34m(data)\u001b[0m\n\u001b[1;32m    675\u001b[0m lengths \u001b[38;5;241m=\u001b[39m \u001b[38;5;28mlist\u001b[39m(\u001b[38;5;28mset\u001b[39m(raw_lengths))\n\u001b[1;32m    676\u001b[0m \u001b[38;5;28;01mif\u001b[39;00m \u001b[38;5;28mlen\u001b[39m(lengths) \u001b[38;5;241m>\u001b[39m \u001b[38;5;241m1\u001b[39m:\n\u001b[0;32m--> 677\u001b[0m     \u001b[38;5;28;01mraise\u001b[39;00m \u001b[38;5;167;01mValueError\u001b[39;00m(\u001b[38;5;124m\"\u001b[39m\u001b[38;5;124mAll arrays must be of the same length\u001b[39m\u001b[38;5;124m\"\u001b[39m)\n\u001b[1;32m    679\u001b[0m \u001b[38;5;28;01mif\u001b[39;00m have_dicts:\n\u001b[1;32m    680\u001b[0m     \u001b[38;5;28;01mraise\u001b[39;00m \u001b[38;5;167;01mValueError\u001b[39;00m(\n\u001b[1;32m    681\u001b[0m         \u001b[38;5;124m\"\u001b[39m\u001b[38;5;124mMixing dicts with non-Series may lead to ambiguous ordering.\u001b[39m\u001b[38;5;124m\"\u001b[39m\n\u001b[1;32m    682\u001b[0m     )\n",
      "\u001b[0;31mValueError\u001b[0m: All arrays must be of the same length"
     ]
    }
   ],
   "source": [
    "import plotly.express as px\n",
    "import numpy as np\n",
    "\n",
    "# Sample data\n",
    "categories = ['Category A', 'Category B', 'Category C', 'Category D']\n",
    "values = [25, 40, 30, 50]\n",
    "values = values/np.max(values)\n",
    "\n",
    "# Choose a matplotlib colormap\n",
    "cmap = plt.get_cmap('RdYlGn_r')\n",
    "\n",
    "# Create a custom colormap using Plotly colors\n",
    "plotly_colormap = [\n",
    "    f'rgb{tuple(int(256 * x) for x in cmap(y)[:-1])}' for y in values]\n",
    "\n",
    "# Create a DataFrame\n",
    "data = {'Categories': categories, 'Values': values}\n",
    "df = pd.DataFrame(data)\n",
    "\n",
    "# Create bar chart with custom colors\n",
    "fig = px.bar(df, x='Categories', y='Values', color=\"Categories\",\n",
    "             color_discrete_sequence=plotly_colormap,\n",
    "             title='Bar Chart with Colormap Colors', labels={'Values': 'Bar Values', 'Categories': 'Categories'})\n",
    "\n",
    "# Show the plot\n",
    "fig.show()"
   ]
  },
  {
   "cell_type": "code",
   "execution_count": 122,
   "metadata": {},
   "outputs": [
    {
     "data": {
      "text/plain": [
       "['rgb(32, 144, 140)',\n",
       " 'rgb(121, 209, 81)',\n",
       " 'rgb(34, 167, 132)',\n",
       " 'rgb(253, 231, 36)']"
      ]
     },
     "execution_count": 122,
     "metadata": {},
     "output_type": "execute_result"
    }
   ],
   "source": [
    "[f'rgb{tuple(int(255*x) for x in cmap(val)[:-1])}' for val in values/np.max(values)]"
   ]
  },
  {
   "cell_type": "code",
   "execution_count": 126,
   "metadata": {},
   "outputs": [],
   "source": []
  },
  {
   "cell_type": "code",
   "execution_count": null,
   "metadata": {},
   "outputs": [],
   "source": []
  }
 ],
 "metadata": {
  "kernelspec": {
   "display_name": "renewable_energy_prediction",
   "language": "python",
   "name": "python3"
  },
  "language_info": {
   "codemirror_mode": {
    "name": "ipython",
    "version": 3
   },
   "file_extension": ".py",
   "mimetype": "text/x-python",
   "name": "python",
   "nbconvert_exporter": "python",
   "pygments_lexer": "ipython3",
   "version": "3.10.13"
  }
 },
 "nbformat": 4,
 "nbformat_minor": 2
}
